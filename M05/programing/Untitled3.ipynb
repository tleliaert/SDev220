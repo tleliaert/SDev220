{
 "cells": [
  {
   "cell_type": "code",
   "execution_count": null,
   "id": "ffdd8502-2c08-4cf2-95d2-aca8e63b5e01",
   "metadata": {},
   "outputs": [],
   "source": [
    "def add(x, y):\n",
    "    \"\"\"Return the sum of x and y.\"\"\"\n",
    "    return x + y\n",
    "\n",
    "import unittest\n",
    "\n",
    "class TestAddFunction(unittest.TestCase):\n",
    "    def test_add_integers(self):\n",
    "        self.assertEqual(add(1, 2), 3, \"Should be 3\")\n",
    "\n",
    "    def test_add_floats(self):\n",
    "        self.assertAlmostEqual(add(1.1, 2.2), 3.3, places=1, msg=\"Should be approximately 3.3\")\n",
    "\n",
    "    def test_add_strings(self):\n",
    "        self.assertEqual(add('a', 'b'), 'ab', \"Should be 'ab'\")\n",
    "\n",
    "    def test_add_lists(self):\n",
    "        self.assertEqual(add([1, 2], [3, 4]), [1, 2, 3, 4], \"Should be [1, 2, 3, 4]\")\n",
    "\n",
    "    def test_add_negative(self):\n",
    "        self.assertEqual(add(-1, -1), -2, \"Should be -2\")\n",
    "\n",
    "unittest.main(argv=[''], verbosity=2, exit=False)\n"
   ]
  }
 ],
 "metadata": {
  "kernelspec": {
   "display_name": "Python 3 (ipykernel)",
   "language": "python",
   "name": "python3"
  },
  "language_info": {
   "codemirror_mode": {
    "name": "ipython",
    "version": 3
   },
   "file_extension": ".py",
   "mimetype": "text/x-python",
   "name": "python",
   "nbconvert_exporter": "python",
   "pygments_lexer": "ipython3",
   "version": "3.11.7"
  }
 },
 "nbformat": 4,
 "nbformat_minor": 5
}
